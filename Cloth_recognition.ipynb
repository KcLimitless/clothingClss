{
 "cells": [
  {
   "cell_type": "markdown",
   "id": "06389878",
   "metadata": {},
   "source": [
    "# A Computer Vision Example\n",
    "  \n",
    "We will train a neural network to recognize items of clothing from a common dataset called Fashion MNIST"
   ]
  },
  {
   "cell_type": "code",
   "execution_count": 8,
   "id": "efa90297",
   "metadata": {},
   "outputs": [],
   "source": [
    "import tensorflow as tf\n",
    "import matplotlib.pyplot as plt"
   ]
  },
  {
   "cell_type": "code",
   "execution_count": 9,
   "id": "e9275660",
   "metadata": {},
   "outputs": [],
   "source": [
    "#The Fashion MNIST data is available directly in the tf.keras datasets API. \n",
    "#You load it like this:\n",
    "\n",
    "mnist = tf.keras.datasets.fashion_mnist"
   ]
  },
  {
   "cell_type": "code",
   "execution_count": 10,
   "id": "81661c21",
   "metadata": {},
   "outputs": [],
   "source": [
    "#Calling load_data on this object will give you two sets of two lists, \n",
    "#these will be the training and testing values for the \n",
    "#graphics that contain the clothing items and their labels.\n",
    "\n",
    "(training_images, training_labels), (test_images, test_labels) = mnist.load_data()"
   ]
  },
  {
   "cell_type": "code",
   "execution_count": 11,
   "id": "f61ed701",
   "metadata": {},
   "outputs": [
    {
     "name": "stdout",
     "output_type": "stream",
     "text": [
      "6\n",
      "[[  0   0   0   0   0   0   0   0   0   4   0   3 166 152 147 164   8   0\n",
      "    3   0   0   0   0   0   0   0   0   0]\n",
      " [  0   0   0   0   0   0   2   5   0   0   0 122 239 214 214 232  97   0\n",
      "    0   0   4   2   0   0   0   0   0   0]\n",
      " [  0   0   0   0   0   2   0   0   0  27 119 196 198 196 191 193 177 112\n",
      "   34   0   0   0   1   0   0   0   0   0]\n",
      " [  0   0   0   0   1   0   0  90 179 188 189 185 201 199 200 183 174 177\n",
      "  169 165 105  12   0   2   0   0   0   0]\n",
      " [  0   0   0   0   0   0 164 186 175 171 174 170 187 176 185 178 160 165\n",
      "  166 171 181 162   0   0   0   0   0   0]\n",
      " [  0   0   0   0   0 121 210 176 181 178 181 175 177 175 169 172 171 175\n",
      "  177 180 173 199 116   0   0   0   0   0]\n",
      " [  0   0   0   0   0 166 211 185 180 185 173 174 183 184 176 176 172 172\n",
      "  180 171 186 203 183   0   0   0   0   0]\n",
      " [  0   0   0   0   0 194 210 206 180 175 188 176 176 178 180 178 177 179\n",
      "  171 184 200 196 182   0   0   0   0   0]\n",
      " [  0   0   0   0  33 208 197 215 222 180 174 180 182 178 184 181 178 179\n",
      "  188 190 206 194 198  27   0   0   0   0]\n",
      " [  0   0   0   0  80 212 197 224 226 198 190 189 191 189 189 187 186 189\n",
      "  185 201 215 194 202  70   0   0   0   0]\n",
      " [  0   0   0   0 100 212 203 193 190 207 190 197 194 188 193 196 196 184\n",
      "  201 175 192 197 224 101   0   0   0   0]\n",
      " [  0   0   0   0 131 225 220 151 159 230 190 200 197 190 193 198 193 181\n",
      "  215 146 165 208 213 122   0   0   0   0]\n",
      " [  0   0   0   0 156 210 232 143 158 234 196 197 191 190 191 196 199 188\n",
      "  226 137 158 226 208 148   0   0   0   0]\n",
      " [  0   0   0   0 170 206 245 129 144 233 193 196 201 196 195 189 201 187\n",
      "  219 127 141 237 202 166   0   0   0   0]\n",
      " [  0   0   0   0 181 203 249 125 142 238 183 190 190 191 194 189 200 194\n",
      "  222 127 128 245 199 177   0   0   0   0]\n",
      " [  0   0   0   0 192 202 248 116 142 237 191 201 196 198 196 189 194 195\n",
      "  230 124 116 250 190 186   0   0   0   0]\n",
      " [  0   0   0   0 194 201 253  83 135 240 196 199 205 198 201 195 193 195\n",
      "  233 110 105 253 185 190   0   0   0   0]\n",
      " [  0   0   0   0 193 199 255  64 125 243 190 200 203 193 198 201 188 199\n",
      "  240 104  83 254 193 192   0   0   0   0]\n",
      " [  0   0   0   0 194 198 255  44 128 235 189 207 197 198 199 204 196 184\n",
      "  242  99  64 255 192 189   0   0   0   0]\n",
      " [  0   0   0   0 196 196 255  24 132 240 201 198 200 204 190 205 207 192\n",
      "  242 102  37 255 191 188   0   0   0   0]\n",
      " [  0   0   0   0 196 198 255  18 131 244 200 196 206 201 195 194 211 198\n",
      "  239 112  24 255 188 186   0   0   0   0]\n",
      " [  0   0   0   0 190 200 255  16 132 244 199 203 203 197 206 195 194 204\n",
      "  238 121  22 255 190 184   0   0   0   0]\n",
      " [  0   0   0   0 180 202 255  16 134 241 200 204 199 204 199 209 189 200\n",
      "  243 123  36 255 197 179   0   0   0   0]\n",
      " [  0   0   0   0 168 204 255  36 126 217 200 199 203 203 195 204 203 189\n",
      "  215 118  40 253 201 164   0   0   0   0]\n",
      " [  0   0   0   0 153 206 221  45 159 228 202 203 199 198 193 200 204 202\n",
      "  221 151  54 216 200 150   0   0   0   0]\n",
      " [  0   0   0   0 136 207 215  81  51 217 189 205 211 216 206 206 203 188\n",
      "  204  35  90 213 199 131   0   0   0   0]\n",
      " [  0   0   0   0 139 219 225 119   0   0   0   7  37  47  41  31  14   0\n",
      "    0   0 137 219 212 117   0   0   0   0]\n",
      " [  0   0   0   0  58 163 163  53   0   0   0   0   0   0   0   0   0   0\n",
      "    0   0  66 160 162  32   0   0   0   0]]\n"
     ]
    },
    {
     "data": {
      "image/png": "[encoded data removed]",
      "text/plain": [
       "<Figure size 432x288 with 1 Axes>"
      ]
     },
     "metadata": {
      "needs_background": "light"
     },
     "output_type": "display_data"
    }
   ],
   "source": [
    "#What does these values look like? Let's print a training image, and a training label to see:\n",
    "#You'll notice that all of the values in the number are between 0 and 255.\n",
    "\n",
    "plt.imshow(training_images[970])\n",
    "print(training_labels[970])\n",
    "print(training_images[970])"
   ]
  },
  {
   "cell_type": "code",
   "execution_count": 12,
   "id": "e4cc3fdd",
   "metadata": {},
   "outputs": [],
   "source": [
    "#If we are training a neural network, for various reasons it's easier \n",
    "#if we treat all values as between 0 and 1, a process called 'normalizing'\n",
    "\n",
    "training_images  = training_images / 255.0\n",
    "test_images = test_images / 255.0"
   ]
  },
  {
   "cell_type": "code",
   "execution_count": 20,
   "id": "c3ea252e",
   "metadata": {},
   "outputs": [
    {
     "name": "stdout",
     "output_type": "stream",
     "text": [
      "8\n",
      "[[0.         0.         0.         0.         0.         0.\n",
      "  0.         0.         0.         0.         0.         0.\n",
      "  0.         0.32156863 0.47843137 0.14509804 0.         0.01960784\n",
      "  0.         0.         0.         0.         0.         0.\n",
      "  0.         0.         0.         0.        ]\n",
      " [0.         0.         0.         0.         0.         0.\n",
      "  0.         0.         0.         0.         0.00784314 0.\n",
      "  0.14901961 0.39215686 0.10980392 0.4745098  0.         0.00392157\n",
      "  0.         0.         0.         0.         0.         0.\n",
      "  0.         0.         0.         0.        ]\n",
      " [0.         0.         0.         0.         0.         0.\n",
      "  0.         0.         0.         0.         0.01960784 0.\n",
      "  0.3372549  0.16862745 0.         0.53333333 0.05882353 0.\n",
      "  0.00784314 0.         0.         0.         0.         0.\n",
      "  0.         0.         0.         0.        ]\n",
      " [0.         0.         0.         0.         0.         0.\n",
      "  0.         0.         0.         0.         0.00784314 0.\n",
      "  0.40784314 0.11764706 0.         0.4        0.15686275 0.\n",
      "  0.01176471 0.         0.         0.         0.         0.\n",
      "  0.         0.         0.         0.        ]\n",
      " [0.         0.         0.         0.         0.         0.\n",
      "  0.         0.         0.         0.01176471 0.         0.\n",
      "  0.43529412 0.00784314 0.         0.28627451 0.31764706 0.\n",
      "  0.01568627 0.         0.         0.         0.         0.\n",
      "  0.         0.         0.         0.        ]\n",
      " [0.         0.         0.         0.         0.         0.\n",
      "  0.         0.         0.         0.00784314 0.         0.06666667\n",
      "  0.34117647 0.         0.         0.17647059 0.31764706 0.\n",
      "  0.01568627 0.         0.         0.         0.         0.\n",
      "  0.         0.         0.         0.        ]\n",
      " [0.         0.         0.         0.         0.         0.\n",
      "  0.         0.         0.         0.01568627 0.         0.21176471\n",
      "  0.35294118 0.         0.         0.09411765 0.36078431 0.\n",
      "  0.01568627 0.         0.         0.         0.         0.\n",
      "  0.         0.         0.         0.        ]\n",
      " [0.         0.         0.         0.         0.         0.\n",
      "  0.         0.         0.         0.01176471 0.         0.29803922\n",
      "  0.11764706 0.         0.         0.         0.36470588 0.\n",
      "  0.         0.         0.         0.         0.         0.\n",
      "  0.         0.         0.         0.        ]\n",
      " [0.         0.         0.         0.         0.         0.\n",
      "  0.         0.         0.         0.00392157 0.         0.29019608\n",
      "  0.         0.         0.         0.         0.3372549  0.\n",
      "  0.         0.00392157 0.         0.         0.         0.\n",
      "  0.         0.         0.         0.        ]\n",
      " [0.         0.         0.         0.         0.         0.\n",
      "  0.         0.         0.         0.         0.         0.42745098\n",
      "  0.         0.         0.00392157 0.         0.3372549  0.04313725\n",
      "  0.         0.00784314 0.         0.         0.         0.\n",
      "  0.         0.         0.         0.        ]\n",
      " [0.         0.         0.         0.         0.         0.\n",
      "  0.         0.         0.00784314 0.         0.12156863 0.30980392\n",
      "  0.         0.00784314 0.00784314 0.         0.45098039 0.14901961\n",
      "  0.         0.01568627 0.         0.         0.         0.\n",
      "  0.         0.         0.         0.        ]\n",
      " [0.         0.         0.         0.         0.         0.\n",
      "  0.         0.         0.01960784 0.         0.25882353 0.35294118\n",
      "  0.         0.00392157 0.00392157 0.         0.53333333 0.22745098\n",
      "  0.         0.01960784 0.         0.         0.         0.\n",
      "  0.         0.         0.         0.        ]\n",
      " [0.         0.         0.         0.         0.         0.\n",
      "  0.         0.         0.01960784 0.         0.32156863 0.53333333\n",
      "  0.         0.01176471 0.01568627 0.         0.76470588 0.29803922\n",
      "  0.         0.01960784 0.         0.         0.         0.\n",
      "  0.         0.         0.         0.        ]\n",
      " [0.         0.         0.         0.         0.         0.\n",
      "  0.         0.         0.         0.         0.37254902 0.65098039\n",
      "  0.         0.         0.         0.         0.56470588 0.31372549\n",
      "  0.         0.         0.         0.         0.         0.\n",
      "  0.         0.         0.         0.        ]\n",
      " [0.         0.         0.         0.         0.         0.\n",
      "  0.         0.         0.         0.17647059 0.56862745 0.74901961\n",
      "  0.07843137 0.25490196 0.26666667 0.15686275 0.58039216 0.62352941\n",
      "  0.30980392 0.23529412 0.         0.         0.         0.\n",
      "  0.         0.         0.         0.        ]\n",
      " [0.         0.         0.         0.         0.         0.\n",
      "  0.         0.         0.2745098  0.89411765 0.67843137 0.83921569\n",
      "  0.81568627 0.82745098 0.84313725 0.84705882 0.8        0.8\n",
      "  0.82745098 0.64313725 0.01176471 0.         0.         0.\n",
      "  0.         0.         0.         0.        ]\n",
      " [0.         0.         0.         0.         0.         0.\n",
      "  0.         0.         0.22352941 0.69019608 0.65490196 0.80392157\n",
      "  0.78039216 0.74509804 0.75686275 0.76470588 0.75686275 0.76862745\n",
      "  0.71764706 0.71372549 0.         0.         0.         0.\n",
      "  0.         0.         0.         0.        ]\n",
      " [0.         0.         0.         0.         0.         0.\n",
      "  0.         0.         0.31372549 0.78431373 0.72941176 0.85882353\n",
      "  0.8        0.74901961 0.8        0.82352941 0.8        0.80392157\n",
      "  0.74117647 0.72156863 0.         0.         0.         0.\n",
      "  0.         0.         0.         0.        ]\n",
      " [0.         0.         0.         0.         0.         0.\n",
      "  0.         0.         0.56862745 0.66666667 0.67843137 0.7372549\n",
      "  0.79215686 0.79215686 0.85882353 0.82745098 0.8        0.83137255\n",
      "  0.77647059 0.8627451  0.         0.         0.         0.\n",
      "  0.         0.         0.         0.        ]\n",
      " [0.         0.         0.         0.         0.         0.\n",
      "  0.         0.         0.68235294 0.68235294 0.7372549  0.75294118\n",
      "  0.82745098 0.82352941 0.84313725 0.85098039 0.83921569 0.85882353\n",
      "  0.75294118 0.97254902 0.         0.         0.         0.\n",
      "  0.         0.         0.         0.        ]\n",
      " [0.         0.         0.         0.         0.         0.\n",
      "  0.         0.         0.70588235 0.74509804 0.68627451 0.61960784\n",
      "  0.81960784 0.81960784 0.82745098 0.85098039 0.84313725 0.83921569\n",
      "  0.74509804 0.97647059 0.01568627 0.         0.         0.\n",
      "  0.         0.         0.         0.        ]\n",
      " [0.         0.         0.         0.         0.         0.\n",
      "  0.         0.         0.72156863 0.7372549  0.70588235 0.82352941\n",
      "  0.81960784 0.80392157 0.85490196 0.84705882 0.83137255 0.81568627\n",
      "  0.76470588 0.99215686 0.0627451  0.         0.         0.\n",
      "  0.         0.         0.         0.        ]\n",
      " [0.         0.         0.         0.         0.         0.\n",
      "  0.         0.         0.71764706 0.78823529 0.6745098  0.79607843\n",
      "  0.80784314 0.81568627 0.84705882 0.84313725 0.83529412 0.83529412\n",
      "  0.76862745 1.         0.10196078 0.         0.         0.\n",
      "  0.         0.         0.         0.        ]\n",
      " [0.         0.         0.         0.         0.         0.\n",
      "  0.         0.         0.70588235 0.84313725 0.72156863 0.78039216\n",
      "  0.83921569 0.85882353 0.89019608 0.85490196 0.85882353 0.8745098\n",
      "  0.78431373 0.89411765 0.15686275 0.         0.         0.\n",
      "  0.         0.         0.         0.        ]\n",
      " [0.         0.         0.         0.         0.         0.\n",
      "  0.         0.         0.73333333 0.85490196 0.7254902  0.80784314\n",
      "  0.84705882 0.84313725 0.86666667 0.89803922 0.85882353 0.85490196\n",
      "  0.78431373 0.90980392 0.20784314 0.         0.         0.\n",
      "  0.         0.         0.         0.        ]\n",
      " [0.         0.         0.         0.         0.         0.\n",
      "  0.         0.         0.72156863 0.81176471 0.7372549  0.77647059\n",
      "  0.85098039 0.64705882 0.57254902 0.83921569 0.83921569 0.83921569\n",
      "  0.78431373 0.90588235 0.22352941 0.         0.         0.\n",
      "  0.         0.         0.         0.        ]\n",
      " [0.         0.         0.         0.         0.         0.\n",
      "  0.         0.         0.82745098 0.98823529 0.89803922 0.94117647\n",
      "  0.95686275 0.98823529 0.99215686 0.99215686 0.98039216 0.90588235\n",
      "  0.89019608 0.96078431 0.2627451  0.         0.         0.\n",
      "  0.         0.         0.         0.        ]\n",
      " [0.         0.         0.         0.         0.         0.\n",
      "  0.         0.         0.42745098 0.67058824 0.61568627 0.63921569\n",
      "  0.63137255 0.65490196 0.62745098 0.58431373 0.55686275 0.56862745\n",
      "  0.56862745 0.58431373 0.04313725 0.         0.         0.\n",
      "  0.         0.         0.         0.        ]]\n"
     ]
    },
    {
     "data": {
      "image/png": "[encoded data removed]",
      "text/plain": [
       "<Figure size 432x288 with 1 Axes>"
      ]
     },
     "metadata": {
      "needs_background": "light"
     },
     "output_type": "display_data"
    }
   ],
   "source": [
    "plt.imshow(training_images[200])\n",
    "print(training_labels[200])\n",
    "print(training_images[200])"
   ]
  },
  {
   "cell_type": "code",
   "execution_count": 14,
   "id": "427c9984",
   "metadata": {},
   "outputs": [],
   "source": [
    "#Let's now design the model:\n",
    "\n",
    "model = tf.keras.models.Sequential([tf.keras.layers.Flatten(), \n",
    "                                    tf.keras.layers.Dense(128, activation=tf.nn.relu), \n",
    "                                    tf.keras.layers.Dense(10, activation=tf.nn.softmax)])"
   ]
  },
  {
   "cell_type": "markdown",
   "id": "9f61ffa2",
   "metadata": {},
   "source": [
    "__Sequential:__ That defines a SEQUENCE of layers in the neural network\n",
    "\n",
    "__Flatten:__ Remember earlier where our images were a square, when you printed them out? Flatten just takes that square and turns it into a 1 dimensional set.\n",
    "\n",
    "__Dense:__ Adds a layer of neurons\n",
    "Each layer of neurons need an __activation function__ to tell them what to do.\n",
    "\n",
    "__Relu__ effectively means \"If X>0 return X, else return 0\" -- so what it does it it only passes values 0 or greater to the next layer in the network.\n",
    "\n",
    "__Softmax__ takes a set of values, and effectively picks the biggest one, so, for example, if the output of the last layer looks like [0.1, 0.1, 0.05, 0.1, 9.5, 0.1, 0.05, 0.05, 0.05], it saves you from fishing through it looking for the biggest value, and turns it into [0,0,0,0,1,0,0,0,0] -- The goal is to save a lot of coding!"
   ]
  },
  {
   "cell_type": "code",
   "execution_count": 15,
   "id": "919db081",
   "metadata": {},
   "outputs": [
    {
     "name": "stdout",
     "output_type": "stream",
     "text": [
      "Epoch 1/5\n",
      "1875/1875 [==============================] - 4s 2ms/step - loss: 0.4978 - accuracy: 0.8264\n",
      "Epoch 2/5\n",
      "1875/1875 [==============================] - 3s 2ms/step - loss: 0.3744 - accuracy: 0.8647\n",
      "Epoch 3/5\n",
      "1875/1875 [==============================] - 3s 2ms/step - loss: 0.3331 - accuracy: 0.8779\n",
      "Epoch 4/5\n",
      "1875/1875 [==============================] - 3s 2ms/step - loss: 0.3094 - accuracy: 0.8862\n",
      "Epoch 5/5\n",
      "1875/1875 [==============================] - 3s 2ms/step - loss: 0.2927 - accuracy: 0.8914\n"
     ]
    },
    {
     "data": {
      "text/plain": [
       "<keras.callbacks.History at 0x1e3f6daff40>"
      ]
     },
     "execution_count": 15,
     "metadata": {},
     "output_type": "execute_result"
    }
   ],
   "source": [
    "#The next thing to do, now the model is defined, is to actually build it.\n",
    "#You do this by compiling it with an optimizer and loss function as before,\n",
    "#and then you train it by calling *model.fit* \n",
    "#asking it to fit your training data to your training labels \n",
    "\n",
    "model.compile(optimizer = tf.keras.optimizers.Adam(),\n",
    "              loss = 'sparse_categorical_crossentropy',\n",
    "              metrics=['accuracy'])\n",
    "\n",
    "model.fit(training_images, training_labels, epochs=5)"
   ]
  },
  {
   "cell_type": "markdown",
   "id": "24fd2703",
   "metadata": {},
   "source": [
    "# Consider experimenting with:\n",
    " - different values for the dense layer with 512, 1024, ... neurons\n",
    " - Consider the effects of additional layers in the network\n",
    " - the impact of training for more or less epochs\n",
    " - the impact of not Normalizing"
   ]
  },
  {
   "cell_type": "code",
   "execution_count": 16,
   "id": "6853c60d",
   "metadata": {},
   "outputs": [
    {
     "name": "stdout",
     "output_type": "stream",
     "text": [
      "313/313 [==============================] - 0s 1ms/step - loss: 0.3408 - accuracy: 0.8771\n"
     ]
    },
    {
     "data": {
      "text/plain": [
       "[0.3408336639404297, 0.8770999908447266]"
      ]
     },
     "execution_count": 16,
     "metadata": {},
     "output_type": "execute_result"
    }
   ],
   "source": [
    "#But how would it work with unseen data? That's why we have the test images. \n",
    "#We can call model.evaluate, and pass in the two sets, \n",
    "#and it will report back the loss for each. Let's give it a try:\n",
    "\n",
    "model.evaluate(test_images, test_labels)"
   ]
  },
  {
   "cell_type": "code",
   "execution_count": 28,
   "id": "6c5d249a",
   "metadata": {},
   "outputs": [
    {
     "name": "stdout",
     "output_type": "stream",
     "text": [
      "[3.75480391e-02 2.39720270e-02 5.43129802e-01 1.60099734e-02\n",
      " 6.58312067e-02 4.90113507e-06 2.31832623e-01 1.09240595e-04\n",
      " 8.15120190e-02 5.00857786e-05]\n"
     ]
    }
   ],
   "source": [
    "classifications = model.predict(test_images)\n",
    "\n",
    "print(classifications[500])"
   ]
  },
  {
   "cell_type": "code",
   "execution_count": 29,
   "id": "018a12cd",
   "metadata": {},
   "outputs": [
    {
     "name": "stdout",
     "output_type": "stream",
     "text": [
      "2\n"
     ]
    }
   ],
   "source": [
    "print(test_labels[500])"
   ]
  },
  {
   "cell_type": "code",
   "execution_count": 30,
   "id": "6847d1a2",
   "metadata": {},
   "outputs": [
    {
     "name": "stdout",
     "output_type": "stream",
     "text": [
      "2\n",
      "[[0.         0.         0.         0.         0.         0.\n",
      "  0.         0.         0.         0.         0.42352941 0.36470588\n",
      "  0.14901961 0.         0.         0.         0.03137255 0.29803922\n",
      "  0.54901961 0.13333333 0.         0.         0.         0.00392157\n",
      "  0.00392157 0.         0.         0.        ]\n",
      " [0.         0.         0.         0.         0.         0.\n",
      "  0.         0.11764706 0.36078431 0.27058824 0.75294118 0.71764706\n",
      "  0.58431373 0.83921569 0.69411765 0.76078431 0.89019608 0.60392157\n",
      "  0.80784314 0.56078431 0.30980392 0.18039216 0.         0.\n",
      "  0.         0.         0.         0.        ]\n",
      " [0.         0.         0.         0.         0.         0.\n",
      "  0.23137255 0.49803922 0.45490196 0.33333333 0.24705882 0.72156863\n",
      "  0.50196078 0.40784314 0.         0.03921569 0.49411765 0.54117647\n",
      "  0.56862745 0.23137255 0.40784314 0.4627451  0.3372549  0.\n",
      "  0.         0.         0.         0.        ]\n",
      " [0.         0.         0.         0.         0.         0.01176471\n",
      "  0.38823529 0.36078431 0.31764706 0.31764706 0.21176471 0.2627451\n",
      "  0.87058824 1.         0.81960784 0.80784314 0.69803922 0.72156863\n",
      "  0.28235294 0.27058824 0.38039216 0.38039216 0.4627451  0.09411765\n",
      "  0.         0.00784314 0.         0.        ]\n",
      " [0.         0.         0.00392157 0.00392157 0.         0.23529412\n",
      "  0.4745098  0.54117647 0.3254902  0.25098039 0.29803922 0.26666667\n",
      "  0.09019608 0.1372549  0.21568627 0.20392157 0.18039216 0.14117647\n",
      "  0.25490196 0.28235294 0.28235294 0.29803922 0.4        0.43137255\n",
      "  0.         0.         0.         0.        ]\n",
      " [0.         0.         0.         0.         0.         0.43921569\n",
      "  0.34901961 0.20392157 0.34901961 0.28235294 0.2627451  0.27058824\n",
      "  0.31764706 0.28627451 0.23529412 0.27843137 0.25098039 0.21568627\n",
      "  0.20392157 0.28627451 0.30196078 0.34509804 0.40784314 0.42352941\n",
      "  0.03921569 0.         0.00392157 0.        ]\n",
      " [0.         0.         0.         0.         0.08235294 0.43137255\n",
      "  0.56078431 0.51372549 0.21568627 0.70980392 0.50196078 0.21176471\n",
      "  0.14117647 0.61960784 0.7254902  0.17254902 0.29019608 0.58823529\n",
      "  0.60392157 0.27843137 0.37647059 0.34509804 0.41176471 0.51372549\n",
      "  0.19607843 0.         0.         0.        ]\n",
      " [0.         0.         0.00784314 0.         0.20392157 0.54509804\n",
      "  0.35294118 0.38823529 0.30196078 0.73333333 0.5254902  0.93333333\n",
      "  0.26666667 0.79607843 0.49803922 0.12156863 0.61960784 0.64705882\n",
      "  0.74901961 0.28627451 0.37254902 0.3254902  0.3372549  0.35686275\n",
      "  0.33333333 0.         0.         0.        ]\n",
      " [0.         0.         0.         0.         0.38039216 0.40784314\n",
      "  0.46666667 0.52941176 0.37254902 0.5372549  0.61176471 0.81960784\n",
      "  0.61960784 0.7254902  0.2627451  0.35686275 0.78039216 0.58823529\n",
      "  0.85490196 0.48235294 0.30588235 0.41568627 0.35686275 0.50588235\n",
      "  0.41568627 0.         0.         0.        ]\n",
      " [0.         0.         0.         0.         0.42745098 0.38039216\n",
      "  0.50588235 0.42745098 0.31372549 0.60392157 0.71764706 0.6\n",
      "  0.69803922 0.66666667 0.30588235 0.69803922 0.89411765 0.61176471\n",
      "  0.83921569 0.52941176 0.43921569 0.36078431 0.35686275 0.39607843\n",
      "  0.49803922 0.01568627 0.         0.        ]\n",
      " [0.         0.         0.         0.03921569 0.49019608 0.4\n",
      "  0.47058824 0.57254902 0.38823529 0.74117647 0.93333333 0.29803922\n",
      "  0.54509804 0.43529412 0.24705882 0.93333333 0.6745098  0.18823529\n",
      "  0.97647059 0.35686275 0.30980392 0.30980392 0.57254902 0.43137255\n",
      "  0.43529412 0.1372549  0.         0.        ]\n",
      " [0.         0.         0.         0.1254902  0.57647059 0.30588235\n",
      "  0.61176471 0.56078431 0.21568627 0.64705882 0.68627451 0.25098039\n",
      "  0.55686275 0.44705882 0.24313725 0.59607843 0.41960784 0.26666667\n",
      "  0.83529412 0.35294118 0.42352941 0.60784314 0.82745098 0.29019608\n",
      "  0.56078431 0.20784314 0.         0.        ]\n",
      " [0.         0.         0.         0.18039216 0.49803922 0.41176471\n",
      "  0.48627451 0.96470588 0.35294118 0.27058824 0.29019608 0.39607843\n",
      "  0.43921569 0.30980392 0.38823529 0.43921569 0.31764706 0.37647059\n",
      "  0.72156863 0.38039216 0.30196078 0.43921569 0.6745098  0.25490196\n",
      "  0.46666667 0.39215686 0.         0.        ]\n",
      " [0.         0.         0.         0.34117647 0.56078431 0.41960784\n",
      "  0.43921569 0.83529412 0.2745098  0.45490196 0.90196078 0.3254902\n",
      "  0.60392157 0.57254902 0.58823529 0.8745098  0.25490196 0.36470588\n",
      "  0.76862745 0.4745098  0.34901961 0.57254902 0.75686275 0.36078431\n",
      "  0.42352941 0.41176471 0.         0.        ]\n",
      " [0.         0.         0.         0.38039216 0.49019608 0.49019608\n",
      "  0.48627451 0.61568627 0.23529412 0.46666667 0.98039216 0.2745098\n",
      "  0.70588235 0.61960784 0.5254902  0.69411765 0.63921569 0.41960784\n",
      "  0.88235294 0.32156863 0.33333333 0.65490196 0.69803922 0.34117647\n",
      "  0.48235294 0.44705882 0.         0.        ]\n",
      " [0.         0.         0.         0.41960784 0.4        0.52941176\n",
      "  0.55686275 0.45882353 0.30588235 0.48235294 0.89803922 0.14117647\n",
      "  0.4745098  0.50588235 0.46666667 0.63529412 0.8745098  0.45882353\n",
      "  0.60392157 0.34509804 0.30980392 0.72941176 0.64313725 0.26666667\n",
      "  0.45490196 0.50588235 0.08627451 0.        ]\n",
      " [0.         0.         0.05490196 0.45490196 0.41960784 0.52156863\n",
      "  0.60392157 0.48627451 0.27843137 0.61176471 0.75686275 0.33333333\n",
      "  0.70980392 0.36078431 0.4745098  0.65490196 0.76078431 0.7254902\n",
      "  0.46666667 0.30588235 0.39607843 0.54117647 0.63921569 0.41176471\n",
      "  0.4627451  0.39607843 0.10588235 0.        ]\n",
      " [0.         0.         0.05882353 0.45882353 0.42352941 0.45882353\n",
      "  0.70588235 0.50588235 0.29803922 0.45882353 0.74117647 0.81568627\n",
      "  0.82745098 0.41176471 0.63137255 0.73333333 0.74509804 0.86666667\n",
      "  0.38039216 0.38431373 0.41960784 0.36470588 0.4627451  0.40784314\n",
      "  0.48627451 0.50196078 0.15294118 0.        ]\n",
      " [0.         0.         0.05882353 0.43921569 0.37647059 0.44705882\n",
      "  0.65490196 0.45098039 0.39607843 0.31764706 0.70980392 0.66666667\n",
      "  0.84705882 0.60392157 0.70980392 0.75686275 0.69019608 0.8627451\n",
      "  0.28235294 0.41960784 0.36470588 0.4        0.38039216 0.47058824\n",
      "  0.50588235 0.43529412 0.19607843 0.        ]\n",
      " [0.         0.         0.09019608 0.50588235 0.43137255 0.4745098\n",
      "  0.69803922 0.31372549 0.33333333 0.42745098 0.2745098  0.24705882\n",
      "  0.29803922 0.42352941 0.36078431 0.23529412 0.26666667 0.25490196\n",
      "  0.41176471 0.35294118 0.45490196 0.35686275 0.41176471 0.4\n",
      "  0.41176471 0.43137255 0.15686275 0.        ]\n",
      " [0.         0.         0.14901961 0.46666667 0.4        0.55686275\n",
      "  0.61960784 0.38039216 0.40784314 0.39215686 0.4745098  0.46666667\n",
      "  0.41960784 0.4745098  0.47058824 0.34901961 0.37647059 0.49803922\n",
      "  0.39607843 0.38823529 0.41960784 0.37254902 0.54509804 0.63921569\n",
      "  0.38431373 0.42352941 0.20784314 0.        ]\n",
      " [0.         0.         0.08235294 0.4        0.38039216 0.58039216\n",
      "  0.36470588 0.31372549 0.48627451 0.36078431 0.38039216 0.38823529\n",
      "  0.42745098 0.51372549 0.49411765 0.42745098 0.41960784 0.40784314\n",
      "  0.38039216 0.40784314 0.36078431 0.41568627 0.29803922 0.64705882\n",
      "  0.48627451 0.50588235 0.24705882 0.        ]\n",
      " [0.         0.         0.15294118 0.41568627 0.43529412 0.50980392\n",
      "  0.28235294 0.40784314 0.33333333 0.37647059 0.38039216 0.37647059\n",
      "  0.40784314 0.50588235 0.45490196 0.34509804 0.37647059 0.38823529\n",
      "  0.39607843 0.35294118 0.45490196 0.41568627 0.17254902 0.57647059\n",
      "  0.49803922 0.41568627 0.16470588 0.        ]\n",
      " [0.         0.         0.17647059 0.51372549 0.61960784 0.3254902\n",
      "  0.2        0.50196078 0.3372549  0.39607843 0.42352941 0.39215686\n",
      "  0.43137255 0.5372549  0.48235294 0.35686275 0.36470588 0.44705882\n",
      "  0.4        0.42352941 0.41568627 0.45882353 0.12941176 0.49019608\n",
      "  0.5372549  0.39607843 0.20392157 0.        ]\n",
      " [0.         0.         0.16862745 0.34117647 0.48235294 0.30980392\n",
      "  0.22745098 0.45490196 0.43137255 0.31764706 0.41176471 0.46666667\n",
      "  0.47058824 0.54901961 0.48627451 0.45098039 0.49019608 0.43137255\n",
      "  0.35294118 0.43137255 0.3254902  0.54901961 0.03137255 0.38823529\n",
      "  0.59607843 0.45882353 0.27058824 0.        ]\n",
      " [0.         0.         0.19215686 0.4745098  0.60784314 0.2\n",
      "  0.16470588 0.45490196 0.37254902 0.38039216 0.37254902 0.36470588\n",
      "  0.42352941 0.57647059 0.45882353 0.3254902  0.35294118 0.34901961\n",
      "  0.40784314 0.38039216 0.36470588 0.51372549 0.         0.2627451\n",
      "  0.6        0.37254902 0.22352941 0.        ]\n",
      " [0.         0.         0.16470588 0.36470588 0.56078431 0.0745098\n",
      "  0.19215686 0.43921569 0.34901961 0.39607843 0.41960784 0.38823529\n",
      "  0.40784314 0.56862745 0.52941176 0.38039216 0.42352941 0.43921569\n",
      "  0.37647059 0.37647059 0.38823529 0.50196078 0.         0.10588235\n",
      "  0.59607843 0.36078431 0.24313725 0.        ]\n",
      " [0.         0.         0.22745098 0.35686275 0.56078431 0.03921569\n",
      "  0.13333333 0.34509804 0.17254902 0.24705882 0.28235294 0.26666667\n",
      "  0.25098039 0.27843137 0.2745098  0.24313725 0.27058824 0.23137255\n",
      "  0.21568627 0.30196078 0.27843137 0.43921569 0.         0.07843137\n",
      "  0.54117647 0.34901961 0.25490196 0.        ]]\n"
     ]
    },
    {
     "data": {
      "image/png": "[encoded data removed]",
      "text/plain": [
       "<Figure size 432x288 with 1 Axes>"
      ]
     },
     "metadata": {
      "needs_background": "light"
     },
     "output_type": "display_data"
    }
   ],
   "source": [
    "plt.imshow(test_images[500])\n",
    "print(test_labels[500])\n",
    "print(test_images[500])"
   ]
  },
  {
   "cell_type": "markdown",
   "id": "e346f1e5",
   "metadata": {},
   "source": [
    "# Using Callbacks\n",
    "Using callbacks we can stop the training when we reach a desired value as shown:"
   ]
  },
  {
   "cell_type": "code",
   "execution_count": 31,
   "id": "a34fdf79",
   "metadata": {},
   "outputs": [
    {
     "name": "stdout",
     "output_type": "stream",
     "text": [
      "Epoch 1/20\n",
      "1875/1875 [==============================] - 4s 2ms/step - loss: 0.4712 - accuracy: 0.8318\n",
      "Epoch 2/20\n",
      "1875/1875 [==============================] - 4s 2ms/step - loss: 0.3546 - accuracy: 0.8688\n",
      "Epoch 3/20\n",
      "1875/1875 [==============================] - 4s 2ms/step - loss: 0.3215 - accuracy: 0.8812\n",
      "Epoch 4/20\n",
      "1875/1875 [==============================] - 4s 2ms/step - loss: 0.2963 - accuracy: 0.8891\n",
      "Epoch 5/20\n",
      "1875/1875 [==============================] - 4s 2ms/step - loss: 0.2784 - accuracy: 0.8957\n",
      "Epoch 6/20\n",
      "1875/1875 [==============================] - ETA: 0s - loss: 0.2643 - accuracy: 0.9018\n",
      "Reached 90% accuracy so cancelling training!\n",
      "1875/1875 [==============================] - 4s 2ms/step - loss: 0.2643 - accuracy: 0.9018\n"
     ]
    },
    {
     "data": {
      "text/plain": [
       "<keras.callbacks.History at 0x1e3f90c9be0>"
      ]
     },
     "execution_count": 31,
     "metadata": {},
     "output_type": "execute_result"
    }
   ],
   "source": [
    "class myCallback(tf.keras.callbacks.Callback):\n",
    "  def on_epoch_end(self, epoch, logs={}):\n",
    "    if(logs.get('accuracy')>0.9):\n",
    "      print(\"\\nReached 90% accuracy so cancelling training!\")\n",
    "      self.model.stop_training = True\n",
    "\n",
    "callbacks = myCallback()\n",
    "mnist = tf.keras.datasets.fashion_mnist\n",
    "(training_images, training_labels), (test_images, test_labels) = mnist.load_data()\n",
    "training_images=training_images/255.0\n",
    "test_images=test_images/255.0\n",
    "model = tf.keras.models.Sequential([\n",
    "  tf.keras.layers.Flatten(),\n",
    "  tf.keras.layers.Dense(512, activation=tf.nn.relu),\n",
    "  tf.keras.layers.Dense(10, activation=tf.nn.softmax)\n",
    "])\n",
    "model.compile(optimizer='adam', loss='sparse_categorical_crossentropy', metrics=['accuracy'])\n",
    "model.fit(training_images, training_labels, epochs=20, callbacks=[callbacks])\n"
   ]
  },
  {
   "cell_type": "code",
   "execution_count": null,
   "id": "80e7480d",
   "metadata": {},
   "outputs": [],
   "source": []
  }
 ],
 "metadata": {
  "kernelspec": {
   "display_name": "Python 3 (ipykernel)",
   "language": "python",
   "name": "python3"
  },
  "language_info": {
   "codemirror_mode": {
    "name": "ipython",
    "version": 3
   },
   "file_extension": ".py",
   "mimetype": "text/x-python",
   "name": "python",
   "nbconvert_exporter": "python",
   "pygments_lexer": "ipython3",
   "version": "3.9.7"
  }
 },
 "nbformat": 4,
 "nbformat_minor": 5
}
